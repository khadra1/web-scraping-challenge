{
 "cells": [
  {
   "cell_type": "code",
   "execution_count": 1,
   "id": "f76b01f7",
   "metadata": {},
   "outputs": [],
   "source": [
    "# Automated browser actions\n",
    "from splinter import Browser\n",
    "\n",
    "# Parses the HTML\n",
    "from bs4 import BeautifulSoup\n",
    "import pandas as pd\n",
    "import time\n",
    "\n",
    "# For scraping with Chrome\n",
    "from webdriver_manager.chrome import ChromeDriverManager"
   ]
  },
  {
   "cell_type": "code",
   "execution_count": 2,
   "id": "7dfa8281",
   "metadata": {},
   "outputs": [
    {
     "name": "stdout",
     "output_type": "stream",
     "text": [
      "\n"
     ]
    },
    {
     "name": "stderr",
     "output_type": "stream",
     "text": [
      "[WDM] - ====== WebDriver manager ======\n",
      "[WDM] - Current google-chrome version is 102.0.5005\n",
      "[WDM] - Get LATEST chromedriver version for 102.0.5005 google-chrome\n",
      "[WDM] - Driver [/Users/khadra/.wdm/drivers/chromedriver/mac64/102.0.5005.61/chromedriver] found in cache\n"
     ]
    }
   ],
   "source": [
    "executable_path = { 'executable_path': ChromeDriverManager().install()}\n",
    "browser = Browser('chrome', **executable_path, headless=False)"
   ]
  },
  {
   "cell_type": "markdown",
   "id": "eb153490",
   "metadata": {},
   "source": [
    "# NASA Mars News"
   ]
  },
  {
   "cell_type": "code",
   "execution_count": null,
   "id": "0ae1fcba",
   "metadata": {},
   "outputs": [],
   "source": [
    "# The url we want to scrape\n",
    "url_news = 'https://redplanetscience.com'\n",
    "\n",
    "# Call visit on our browser and pass the url we want to scrape\n",
    "browser.visit(url_news)"
   ]
  },
  {
   "cell_type": "code",
   "execution_count": null,
   "id": "0fe35c77",
   "metadata": {},
   "outputs": [],
   "source": [
    "# Return all the HTML on our page\n",
    "html = browser.html\n",
    "\n",
    "# Create Beautiful Soup object, pass in our html and parse with'html.parser'\n",
    "soup = BeautifulSoup(html, \"html.parser\")"
   ]
  },
  {
   "cell_type": "code",
   "execution_count": null,
   "id": "ca9e7d7c",
   "metadata": {},
   "outputs": [],
   "source": [
    "# Print the soup object, examine the results, then determine element that contains sought info\n",
    "print(soup.prettify)"
   ]
  },
  {
   "cell_type": "code",
   "execution_count": null,
   "id": "522c5094",
   "metadata": {},
   "outputs": [],
   "source": [
    "# Scrape the Mars News Site, collect the latest News Title and Paragraph Text and save it in a variable\n",
    "title = soup.find_all('div', class_='content_title')[0].text\n",
    "paragraph = soup.find_all('div', class_='article_teaser_body')[0].text\n",
    "\n",
    "# Print the latest New Title and Paragraph\n",
    "print(f'Latest News Title: {title}')\n",
    "print('\\n-----------------\\n')\n",
    "print(f'Latest News Paragraph: {paragraph}')"
   ]
  },
  {
   "cell_type": "markdown",
   "id": "cd3ee1e1",
   "metadata": {},
   "source": [
    "# JPL Mars Space Images—Featured Image"
   ]
  },
  {
   "cell_type": "code",
   "execution_count": null,
   "id": "a4ce7bbb",
   "metadata": {},
   "outputs": [],
   "source": [
    "# The url we want to scrape\n",
    "url_image = 'https://spaceimages-mars.com/'\n",
    "\n",
    "# Call visit on our browser and pass the url we want to scrape\n",
    "browser.visit(url_image)"
   ]
  },
  {
   "cell_type": "code",
   "execution_count": null,
   "id": "013cb92d",
   "metadata": {},
   "outputs": [],
   "source": [
    "# Return all the HTML on our page\n",
    "html = browser.html\n",
    "\n",
    "# Create Beautiful Soup object, pass in our html and parse with'html.parser'\n",
    "soup = BeautifulSoup(html, \"html.parser\")"
   ]
  },
  {
   "cell_type": "code",
   "execution_count": null,
   "id": "5bb6dc34",
   "metadata": {},
   "outputs": [],
   "source": [
    "# Print the soup object, examine the results, then determine element that contains sought info\n",
    "print(soup.prettify())"
   ]
  },
  {
   "cell_type": "code",
   "execution_count": null,
   "id": "7f89b5cf",
   "metadata": {},
   "outputs": [],
   "source": [
    "# Scrape the Mars News Site and collect current Featured Mars Image\n",
    "results = soup.find_all('a',class_=\"fancybox-thumbs\")\n",
    "imageurls = []\n",
    "for result in results:\n",
    "    imageurls.append(url_image+result['href'])\n",
    "imageurls\n",
    "\n",
    "# Asign the URL string to a variable called featured_image_url\n",
    "#Be sure to find the image URL to the full-sized .jpg image.\n",
    "#Be sure to save a complete URL string for this image\n",
    "featured_image_url = url_image+results[0]['href']\n",
    "featured_image_url"
   ]
  },
  {
   "cell_type": "markdown",
   "id": "8a6f1169",
   "metadata": {},
   "source": [
    "# Mars Facts"
   ]
  },
  {
   "cell_type": "code",
   "execution_count": 6,
   "id": "14c33192",
   "metadata": {},
   "outputs": [],
   "source": [
    "# Scrape the table containing facts about Mars\n",
    "# The url we want to scrape\n",
    "url_facts = 'https://galaxyfacts-mars.com/'"
   ]
  },
  {
   "cell_type": "code",
   "execution_count": 30,
   "id": "f6b28499",
   "metadata": {},
   "outputs": [
    {
     "data": {
      "text/html": [
       "<div>\n",
       "<style scoped>\n",
       "    .dataframe tbody tr th:only-of-type {\n",
       "        vertical-align: middle;\n",
       "    }\n",
       "\n",
       "    .dataframe tbody tr th {\n",
       "        vertical-align: top;\n",
       "    }\n",
       "\n",
       "    .dataframe thead th {\n",
       "        text-align: right;\n",
       "    }\n",
       "</style>\n",
       "<table border=\"1\" class=\"dataframe\">\n",
       "  <thead>\n",
       "    <tr style=\"text-align: right;\">\n",
       "      <th></th>\n",
       "      <th>0</th>\n",
       "      <th>1</th>\n",
       "      <th>2</th>\n",
       "    </tr>\n",
       "  </thead>\n",
       "  <tbody>\n",
       "    <tr>\n",
       "      <th>0</th>\n",
       "      <td>Mars - Earth Comparison</td>\n",
       "      <td>Mars</td>\n",
       "      <td>Earth</td>\n",
       "    </tr>\n",
       "    <tr>\n",
       "      <th>1</th>\n",
       "      <td>Diameter:</td>\n",
       "      <td>6,779 km</td>\n",
       "      <td>12,742 km</td>\n",
       "    </tr>\n",
       "    <tr>\n",
       "      <th>2</th>\n",
       "      <td>Mass:</td>\n",
       "      <td>6.39 × 10^23 kg</td>\n",
       "      <td>5.97 × 10^24 kg</td>\n",
       "    </tr>\n",
       "    <tr>\n",
       "      <th>3</th>\n",
       "      <td>Moons:</td>\n",
       "      <td>2</td>\n",
       "      <td>1</td>\n",
       "    </tr>\n",
       "    <tr>\n",
       "      <th>4</th>\n",
       "      <td>Distance from Sun:</td>\n",
       "      <td>227,943,824 km</td>\n",
       "      <td>149,598,262 km</td>\n",
       "    </tr>\n",
       "    <tr>\n",
       "      <th>5</th>\n",
       "      <td>Length of Year:</td>\n",
       "      <td>687 Earth days</td>\n",
       "      <td>365.24 days</td>\n",
       "    </tr>\n",
       "    <tr>\n",
       "      <th>6</th>\n",
       "      <td>Temperature:</td>\n",
       "      <td>-87 to -5 °C</td>\n",
       "      <td>-88 to 58°C</td>\n",
       "    </tr>\n",
       "  </tbody>\n",
       "</table>\n",
       "</div>"
      ],
      "text/plain": [
       "                         0                1                2\n",
       "0  Mars - Earth Comparison             Mars            Earth\n",
       "1                Diameter:         6,779 km        12,742 km\n",
       "2                    Mass:  6.39 × 10^23 kg  5.97 × 10^24 kg\n",
       "3                   Moons:                2                1\n",
       "4       Distance from Sun:   227,943,824 km   149,598,262 km\n",
       "5          Length of Year:   687 Earth days      365.24 days\n",
       "6             Temperature:     -87 to -5 °C      -88 to 58°C"
      ]
     },
     "execution_count": 30,
     "metadata": {},
     "output_type": "execute_result"
    }
   ],
   "source": [
    "# Use Panda's `read_html` to parse the url and scrape all tabular data from page\n",
    "tables = pd.read_html(url_facts)\n",
    "\n",
    "# Turn the correct tabular data into dataframe to rename columns\n",
    "mars_table = tables[0]\n",
    "\n",
    "# Print all tables\n",
    "mars_table"
   ]
  },
  {
   "cell_type": "code",
   "execution_count": 31,
   "id": "4ca2346f",
   "metadata": {},
   "outputs": [
    {
     "data": {
      "text/html": [
       "<div>\n",
       "<style scoped>\n",
       "    .dataframe tbody tr th:only-of-type {\n",
       "        vertical-align: middle;\n",
       "    }\n",
       "\n",
       "    .dataframe tbody tr th {\n",
       "        vertical-align: top;\n",
       "    }\n",
       "\n",
       "    .dataframe thead th {\n",
       "        text-align: right;\n",
       "    }\n",
       "</style>\n",
       "<table border=\"1\" class=\"dataframe\">\n",
       "  <thead>\n",
       "    <tr style=\"text-align: right;\">\n",
       "      <th></th>\n",
       "      <th>Mars</th>\n",
       "      <th>Earth</th>\n",
       "    </tr>\n",
       "    <tr>\n",
       "      <th>Description</th>\n",
       "      <th></th>\n",
       "      <th></th>\n",
       "    </tr>\n",
       "  </thead>\n",
       "  <tbody>\n",
       "    <tr>\n",
       "      <th>Mars - Earth Comparison</th>\n",
       "      <td>Mars</td>\n",
       "      <td>Earth</td>\n",
       "    </tr>\n",
       "    <tr>\n",
       "      <th>Diameter:</th>\n",
       "      <td>6,779 km</td>\n",
       "      <td>12,742 km</td>\n",
       "    </tr>\n",
       "    <tr>\n",
       "      <th>Mass:</th>\n",
       "      <td>6.39 × 10^23 kg</td>\n",
       "      <td>5.97 × 10^24 kg</td>\n",
       "    </tr>\n",
       "    <tr>\n",
       "      <th>Moons:</th>\n",
       "      <td>2</td>\n",
       "      <td>1</td>\n",
       "    </tr>\n",
       "    <tr>\n",
       "      <th>Distance from Sun:</th>\n",
       "      <td>227,943,824 km</td>\n",
       "      <td>149,598,262 km</td>\n",
       "    </tr>\n",
       "    <tr>\n",
       "      <th>Length of Year:</th>\n",
       "      <td>687 Earth days</td>\n",
       "      <td>365.24 days</td>\n",
       "    </tr>\n",
       "    <tr>\n",
       "      <th>Temperature:</th>\n",
       "      <td>-87 to -5 °C</td>\n",
       "      <td>-88 to 58°C</td>\n",
       "    </tr>\n",
       "  </tbody>\n",
       "</table>\n",
       "</div>"
      ],
      "text/plain": [
       "                                    Mars            Earth\n",
       "Description                                              \n",
       "Mars - Earth Comparison             Mars            Earth\n",
       "Diameter:                       6,779 km        12,742 km\n",
       "Mass:                    6.39 × 10^23 kg  5.97 × 10^24 kg\n",
       "Moons:                                 2                1\n",
       "Distance from Sun:        227,943,824 km   149,598,262 km\n",
       "Length of Year:           687 Earth days      365.24 days\n",
       "Temperature:                -87 to -5 °C      -88 to 58°C"
      ]
     },
     "execution_count": 31,
     "metadata": {},
     "output_type": "execute_result"
    }
   ],
   "source": [
    "# Rename columns and reset index to match example\n",
    "mars_table = mars_table.rename(columns={0:'Description', 1:'Mars', 2: 'Earth'})\n",
    "mars_table.set_index('Description', inplace=True)\n",
    "mars_table"
   ]
  },
  {
   "cell_type": "code",
   "execution_count": 33,
   "id": "0a70036e",
   "metadata": {},
   "outputs": [
    {
     "name": "stdout",
     "output_type": "stream",
     "text": [
      "<table border=\"1\" class=\"dataframe\">\n",
      "  <thead>\n",
      "    <tr style=\"text-align: right;\">\n",
      "      <th></th>\n",
      "      <th>Mars</th>\n",
      "      <th>Earth</th>\n",
      "    </tr>\n",
      "    <tr>\n",
      "      <th>Description</th>\n",
      "      <th></th>\n",
      "      <th></th>\n",
      "    </tr>\n",
      "  </thead>\n",
      "  <tbody>\n",
      "    <tr>\n",
      "      <th>Mars - Earth Comparison</th>\n",
      "      <td>Mars</td>\n",
      "      <td>Earth</td>\n",
      "    </tr>\n",
      "    <tr>\n",
      "      <th>Diameter:</th>\n",
      "      <td>6,779 km</td>\n",
      "      <td>12,742 km</td>\n",
      "    </tr>\n",
      "    <tr>\n",
      "      <th>Mass:</th>\n",
      "      <td>6.39 × 10^23 kg</td>\n",
      "      <td>5.97 × 10^24 kg</td>\n",
      "    </tr>\n",
      "    <tr>\n",
      "      <th>Moons:</th>\n",
      "      <td>2</td>\n",
      "      <td>1</td>\n",
      "    </tr>\n",
      "    <tr>\n",
      "      <th>Distance from Sun:</th>\n",
      "      <td>227,943,824 km</td>\n",
      "      <td>149,598,262 km</td>\n",
      "    </tr>\n",
      "    <tr>\n",
      "      <th>Length of Year:</th>\n",
      "      <td>687 Earth days</td>\n",
      "      <td>365.24 days</td>\n",
      "    </tr>\n",
      "    <tr>\n",
      "      <th>Temperature:</th>\n",
      "      <td>-87 to -5 °C</td>\n",
      "      <td>-88 to 58°C</td>\n",
      "    </tr>\n",
      "  </tbody>\n",
      "</table>\n"
     ]
    }
   ],
   "source": [
    "# Use Pandas to convert the DataFrame to a HTML table string\n",
    "mars_html = mars_table.to_html()\n",
    "print(mars_html)"
   ]
  },
  {
   "cell_type": "markdown",
   "id": "45e6bf03",
   "metadata": {},
   "source": [
    "# Mars Hemispheres"
   ]
  },
  {
   "cell_type": "code",
   "execution_count": null,
   "id": "845d6099",
   "metadata": {},
   "outputs": [],
   "source": [
    "# Obtain high-resolution images for each hemisphere of Mars from 'https://marshemispheres.com/'\n",
    "\n",
    "# The url we want to scrape\n",
    "url_hemi = 'https://marshemispheres.com/'\n",
    "\n",
    "# Call visit on our browser and pass the url we want to scrape\n",
    "browser.visit(url_hemi)"
   ]
  },
  {
   "cell_type": "code",
   "execution_count": null,
   "id": "e3720612",
   "metadata": {},
   "outputs": [],
   "source": [
    "# Return all the HTML on our page\n",
    "html = browser.html\n",
    "\n",
    "# Create Beautiful Soup object, pass in our html and parse with html.parser'\n",
    "soup = BeautifulSoup(html, \"html.parser\")"
   ]
  },
  {
   "cell_type": "code",
   "execution_count": null,
   "id": "9e961917",
   "metadata": {},
   "outputs": [],
   "source": [
    "# Print the soup object, examine the results, then determine element that contains sought info\n",
    "print(soup.prettify())"
   ]
  },
  {
   "cell_type": "code",
   "execution_count": null,
   "id": "4c57fda4",
   "metadata": {},
   "outputs": [],
   "source": [
    "# Scrape the Mars Hemispheres Site and collect title and image urls for high-resolution images for each hemisphere\n",
    "results = soup.find_all('div', class_='item')\n",
    "\n",
    "# Create empty list for hemisphere title and image results\n",
    "hemisphere_image_urls=[]\n",
    "\n",
    "# Retrieve each list item\n",
    "\n",
    "for result in results:\n",
    "    title = result.find('h3').get_text()\n",
    "    img_url = result.find('img', class_='thumb')['src']\n",
    "    hemisphere_image_urls.append({'title': title,'img_url':img_url})\n",
    "# Print Result\n",
    "hemisphere_image_urls"
   ]
  },
  {
   "cell_type": "code",
   "execution_count": null,
   "id": "aff8c7e0",
   "metadata": {},
   "outputs": [],
   "source": [
    "##################### Scrape Mars Function ######################\n",
    "\n",
    "# Automated browser actions\n",
    "from splinter import Browser\n",
    "\n",
    "# Parses the HTML\n",
    "from bs4 import BeautifulSoup\n",
    "import pandas as pd\n",
    "# import time\n",
    "\n",
    "# For scraping with Chrome\n",
    "from webdriver_manager.chrome import ChromeDriverManager\n",
    "\n",
    "\n",
    "def init_browser():\n",
    "    # @NOTE: Replace the path with your actual path to the chromedriver\n",
    "    executable_path = {\"executable_path\": \"/usr/local/bin/chromedriver\"}\n",
    "    return Browser(\"chrome\", **executable_path, headless=False)\n",
    "\n",
    "\n",
    "def scrape():\n",
    "    browser = init_browser()\n",
    "    # create mars_data dict that we can insert into mongo\n",
    "    mars_data = {}\n",
    "\n",
    "#####################################################################\n",
    "    # Scrape the Mars News Site and collect the latest News Title and Paragraph\n",
    "    # The url we want to scrape\n",
    "    url_news = 'https://redplanetscience.com'    \n",
    "    browser.visit(url_news)\n",
    "    # Call visit on our browser and pass the url we want to scrape\n",
    "    html = browser.html\n",
    "\n",
    "    # create a soup object from the html\n",
    "    soup = BeautifulSoup(html, \"html.parser\")\n",
    "\n",
    "    # Scrape the Mars News Site and collect the latest News Title and Paragraph Text\n",
    "    title = soup.find_all('div', class_='content_title')[0].text\n",
    "    paragraph = soup.find_all('div', class_='article_teaser_body')[0].text\n",
    "\n",
    "    # Quit the browser\n",
    "    browser.quit()\n",
    "       \n",
    "\n",
    "#####################################################################    \n",
    "    # Scrape the Mars News Site and collect current Featured Mars Image\n",
    "    # The url we want to scrape\n",
    "    url_image = 'https://spaceimages-mars.com/'\n",
    "    # Call visit on our browser and pass the url we want to scrape\n",
    "    browser.visit(url_image)\n",
    "    html = browser.html\n",
    "\n",
    "    # create a soup object from the html\n",
    "    soup = BeautifulSoup(html, \"html.parser\")\n",
    "   \n",
    "    # Scrape the Mars News Site and collect current Featured Mars Image\n",
    "    results = soup.find_all('a',class_=\"fancybox-thumbs\")\n",
    "    imageurls = []\n",
    "    for result in results:\n",
    "        imageurls.append(url_image+result['href'])\n",
    "    \n",
    "    # Asign the URL string to a variable called featured_image_url\n",
    "    featured_image_url = url_image+results[0]['href']\n",
    "    \n",
    "    \n",
    "     # Quit the browser\n",
    "    browser.quit()\n",
    "\n",
    " #####################################################################   \n",
    "    # Obtain high-resolution images for each hemisphere of Mars\n",
    "    # The url we want to scrape\n",
    "    url_facts = 'https://galaxyfacts-mars.com'\n",
    "    # Use Panda's `read_html` to parse the url and scrape all tabular data from page\n",
    "    tables = pd.read_html(url_facts)\n",
    "\n",
    "    # Scrape the table containing facts about Mars\n",
    "    mars_table = tables[0]\n",
    "    # Rename columns to make it clear this is data about Planet Mars\n",
    "    mars_table.rename(columns={0:'Facts', 1:'Mars', 2: 'Earth'},inplace=True)\n",
    "    # Use Pandas to convert the data to a HTML table string.\n",
    "    mars_table =mars_table.to_html()\n",
    "\n",
    "     # Quit the browser\n",
    "    browser.quit()\n",
    "#####################################################################\n",
    "    # Obtain high-resolution images for each hemisphere of Mars from 'https://marshemispheres.com/'\n",
    "    # The url we want to scrape\n",
    "    url_hemi = 'https://marshemispheres.com/'\n",
    "    #Call visit on our browser and pass the url we want to scrape\n",
    "    browser.visit(url_hemi)\n",
    "    html = browser.html\n",
    "\n",
    "    # create a soup object from the html\n",
    "    soup = BeautifulSoup(html, \"html.parser\")\n",
    "    \n",
    "    # Scrape the Mars Hemispheres Site and collect title and image urls for high-resolution images for each hemisphere\n",
    "    results = soup.find_all('div', class_='item')\n",
    "\n",
    "    # Create empty list for hemisphere title and image results\n",
    "    hemisphere_image_urls=[]\n",
    "\n",
    "    # Retrieve each list item\n",
    "    \n",
    "    for result in results:\n",
    "        title = result.find('h3').get_text()\n",
    "        img_url = result.find('img', class_='thumb')['src']\n",
    "        hemisphere_image_urls.append({'title': title,'img_url':img_url})\n",
    "    \n",
    "    # Quit the browser\n",
    "    browser.quit()"
   ]
  },
  {
   "cell_type": "code",
   "execution_count": null,
   "id": "fba1da7d",
   "metadata": {},
   "outputs": [],
   "source": [
    "scrape()"
   ]
  }
 ],
 "metadata": {
  "kernelspec": {
   "display_name": "PythonData",
   "language": "python",
   "name": "pythondata"
  },
  "language_info": {
   "codemirror_mode": {
    "name": "ipython",
    "version": 3
   },
   "file_extension": ".py",
   "mimetype": "text/x-python",
   "name": "python",
   "nbconvert_exporter": "python",
   "pygments_lexer": "ipython3",
   "version": "3.7.11"
  }
 },
 "nbformat": 4,
 "nbformat_minor": 5
}
